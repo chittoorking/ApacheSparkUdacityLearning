{
 "cells": [
  {
   "cell_type": "markdown",
   "metadata": {},
   "source": [
    "# Data Wrangling with DataFrames Coding Quiz\n",
    "\n",
    "Use this Jupyter notebook to find the answers to the quiz in the previous section. There is an answer key in the next part of the lesson."
   ]
  },
  {
   "cell_type": "code",
   "execution_count": 22,
   "metadata": {},
   "outputs": [],
   "source": [
    "from pyspark.sql import SparkSession\n",
    "from pyspark.sql.functions import udf\n",
    "from pyspark.sql.functions import asc\n",
    "from pyspark.sql.functions import desc\n",
    "from pyspark.sql.types import StringType\n",
    "from pyspark.sql.types import IntegerType\n",
    "import pyspark\n",
    "from pyspark import SparkConf\n",
    "# TODOS: \n",
    "# 1) import any other libraries you might need\n",
    "# 2) instantiate a Spark session \n",
    "# 3) read in the data set located at the path \"data/sparkify_log_small.json\"\n",
    "# 4) write code to answer the quiz questions "
   ]
  },
  {
   "cell_type": "code",
   "execution_count": 27,
   "metadata": {},
   "outputs": [],
   "source": [
    "spark=SparkSession\\\n",
    "        .builder \\\n",
    "        .appName(\"challenge 1\")\\\n",
    "        .getOrCreate()"
   ]
  },
  {
   "cell_type": "code",
   "execution_count": 28,
   "metadata": {},
   "outputs": [
    {
     "data": {
      "text/plain": [
       "[('spark.app.name', 'challenge 1'),\n",
       " ('spark.driver.port', '35097'),\n",
       " ('spark.rdd.compress', 'True'),\n",
       " ('spark.serializer.objectStreamReset', '100'),\n",
       " ('spark.master', 'local[*]'),\n",
       " ('spark.executor.id', 'driver'),\n",
       " ('spark.submit.deployMode', 'client'),\n",
       " ('spark.driver.host', '8104ce72d034'),\n",
       " ('spark.app.id', 'local-1658083252736'),\n",
       " ('spark.ui.showConsoleProgress', 'true')]"
      ]
     },
     "execution_count": 28,
     "metadata": {},
     "output_type": "execute_result"
    }
   ],
   "source": [
    "spark.sparkContext.getConf().getAll() "
   ]
  },
  {
   "cell_type": "code",
   "execution_count": 29,
   "metadata": {},
   "outputs": [],
   "source": [
    "path=\"data/sparkify_log_small.json\"\n",
    "user_log=spark.read.json(path)"
   ]
  },
  {
   "cell_type": "code",
   "execution_count": 31,
   "metadata": {},
   "outputs": [
    {
     "name": "stdout",
     "output_type": "stream",
     "text": [
      "root\n",
      " |-- artist: string (nullable = true)\n",
      " |-- auth: string (nullable = true)\n",
      " |-- firstName: string (nullable = true)\n",
      " |-- gender: string (nullable = true)\n",
      " |-- itemInSession: long (nullable = true)\n",
      " |-- lastName: string (nullable = true)\n",
      " |-- length: double (nullable = true)\n",
      " |-- level: string (nullable = true)\n",
      " |-- location: string (nullable = true)\n",
      " |-- method: string (nullable = true)\n",
      " |-- page: string (nullable = true)\n",
      " |-- registration: long (nullable = true)\n",
      " |-- sessionId: long (nullable = true)\n",
      " |-- song: string (nullable = true)\n",
      " |-- status: long (nullable = true)\n",
      " |-- ts: long (nullable = true)\n",
      " |-- userAgent: string (nullable = true)\n",
      " |-- userId: string (nullable = true)\n",
      "\n"
     ]
    }
   ],
   "source": [
    "user_log.printSchema()"
   ]
  },
  {
   "cell_type": "markdown",
   "metadata": {},
   "source": [
    "# Question 1\n",
    "\n",
    "Which page did user id \"\" (empty string) NOT visit?"
   ]
  },
  {
   "cell_type": "code",
   "execution_count": 35,
   "metadata": {},
   "outputs": [
    {
     "name": "stdout",
     "output_type": "stream",
     "text": [
      "+-----+\n",
      "| page|\n",
      "+-----+\n",
      "| Home|\n",
      "|About|\n",
      "|Login|\n",
      "| Help|\n",
      "+-----+\n",
      "\n"
     ]
    }
   ],
   "source": [
    "user_log.select('page').where(user_log['userId']==\"\").dropDuplicates().show()"
   ]
  },
  {
   "cell_type": "markdown",
   "metadata": {},
   "source": [
    "# Question 2 - Reflect\n",
    "\n",
    "What type of user does the empty string user id most likely refer to?\n"
   ]
  },
  {
   "cell_type": "code",
   "execution_count": 37,
   "metadata": {},
   "outputs": [
    {
     "name": "stdout",
     "output_type": "stream",
     "text": [
      "+------+----------+---------+------+-------------+--------+------+-----+--------+------+-----+------------+---------+----+------+-------------+---------+------+\n",
      "|artist|      auth|firstName|gender|itemInSession|lastName|length|level|location|method| page|registration|sessionId|song|status|           ts|userAgent|userId|\n",
      "+------+----------+---------+------+-------------+--------+------+-----+--------+------+-----+------------+---------+----+------+-------------+---------+------+\n",
      "|  null|Logged Out|     null|  null|            0|    null|  null| free|    null|   PUT|Login|        null|     5598|null|   307|1513721196284|     null|      |\n",
      "|  null|Logged Out|     null|  null|           26|    null|  null| paid|    null|   GET| Home|        null|      428|null|   200|1513721274284|     null|      |\n",
      "|  null|Logged Out|     null|  null|            5|    null|  null| free|    null|   GET| Home|        null|     2941|null|   200|1513722009284|     null|      |\n",
      "|  null|Logged Out|     null|  null|            5|    null|  null| paid|    null|   GET| Home|        null|     5243|null|   200|1513723183284|     null|      |\n",
      "|  null|Logged Out|     null|  null|            6|    null|  null| paid|    null|   PUT|Login|        null|     5243|null|   307|1513723184284|     null|      |\n",
      "|  null|Logged Out|     null|  null|            0|    null|  null| free|    null|   PUT|Login|        null|     1477|null|   307|1513723587284|     null|      |\n",
      "|  null|Logged Out|     null|  null|           14|    null|  null| paid|    null|   GET| Home|        null|     5243|null|   200|1513724475284|     null|      |\n",
      "|  null|Logged Out|     null|  null|            7|    null|  null| paid|    null|   GET| Home|        null|     4108|null|   200|1513724530284|     null|      |\n",
      "|  null|Logged Out|     null|  null|            0|    null|  null| paid|    null|   PUT|Login|        null|     5764|null|   307|1513728229284|     null|      |\n",
      "|  null|Logged Out|     null|  null|            0|    null|  null| paid|    null|   GET| Home|        null|     5566|null|   200|1513729051284|     null|      |\n",
      "|  null|Logged Out|     null|  null|            1|    null|  null| paid|    null|   PUT|Login|        null|     5566|null|   307|1513729052284|     null|      |\n",
      "|  null|Logged Out|     null|  null|            0|    null|  null| paid|    null|   GET| Home|        null|     3697|null|   200|1513729376284|     null|      |\n",
      "|  null|Logged Out|     null|  null|            1|    null|  null| paid|    null|   GET| Help|        null|     3697|null|   200|1513729445284|     null|      |\n",
      "|  null|Logged Out|     null|  null|           60|    null|  null| paid|    null|   GET| Home|        null|     5175|null|   200|1513729762284|     null|      |\n",
      "|  null|Logged Out|     null|  null|           61|    null|  null| paid|    null|   PUT|Login|        null|     5175|null|   307|1513729763284|     null|      |\n",
      "|  null|Logged Out|     null|  null|            0|    null|  null| free|    null|   GET| Home|        null|      511|null|   200|1513730128284|     null|      |\n",
      "|  null|Logged Out|     null|  null|            1|    null|  null| free|    null|   PUT|Login|        null|      511|null|   307|1513730129284|     null|      |\n",
      "|  null|Logged Out|     null|  null|            0|    null|  null| free|    null|   GET| Home|        null|     2992|null|   200|1513730621284|     null|      |\n",
      "|  null|Logged Out|     null|  null|            1|    null|  null| free|    null|   PUT|Login|        null|     2992|null|   307|1513730622284|     null|      |\n",
      "|  null|Logged Out|     null|  null|            8|    null|  null| paid|    null|   GET| Home|        null|     4239|null|   200|1513730953284|     null|      |\n",
      "+------+----------+---------+------+-------------+--------+------+-----+--------+------+-----+------------+---------+----+------+-------------+---------+------+\n",
      "only showing top 20 rows\n",
      "\n"
     ]
    }
   ],
   "source": [
    "# TODO: use this space to explore the behavior of the user with an empty string\n",
    "user_log.filter(user_log['userId']==\"\").show()"
   ]
  },
  {
   "cell_type": "markdown",
   "metadata": {},
   "source": [
    "# Question 3\n",
    "\n",
    "How many female users do we have in the data set?"
   ]
  },
  {
   "cell_type": "code",
   "execution_count": 38,
   "metadata": {},
   "outputs": [
    {
     "data": {
      "text/plain": [
       "Row(artist='Showaddywaddy', auth='Logged In', firstName='Kenneth', gender='M', itemInSession=112, lastName='Matthews', length=232.93342, level='paid', location='Charlotte-Concord-Gastonia, NC-SC', method='PUT', page='NextSong', registration=1509380319284, sessionId=5132, song='Christmas Tears Will Fall', status=200, ts=1513720872284, userAgent='\"Mozilla/5.0 (Windows NT 6.1) AppleWebKit/537.36 (KHTML, like Gecko) Chrome/36.0.1985.125 Safari/537.36\"', userId='1046')"
      ]
     },
     "execution_count": 38,
     "metadata": {},
     "output_type": "execute_result"
    }
   ],
   "source": [
    "user_log.head()"
   ]
  },
  {
   "cell_type": "code",
   "execution_count": 39,
   "metadata": {},
   "outputs": [
    {
     "data": {
      "text/plain": [
       "3820"
      ]
     },
     "execution_count": 39,
     "metadata": {},
     "output_type": "execute_result"
    }
   ],
   "source": [
    "# TODO: write your code to answer question 3\n",
    "user_log.filter(user_log['gender']=='F').count()"
   ]
  },
  {
   "cell_type": "markdown",
   "metadata": {},
   "source": [
    "# Question 4\n",
    "\n",
    "How many songs were played from the most played artist?"
   ]
  },
  {
   "cell_type": "code",
   "execution_count": 46,
   "metadata": {},
   "outputs": [
    {
     "name": "stdout",
     "output_type": "stream",
     "text": [
      "+--------------------+------------------+------------------+-----------------+--------------+-----------+--------------+\n",
      "|              artist|sum(itemInSession)|       sum(length)|sum(registration)|sum(sessionId)|sum(status)|       sum(ts)|\n",
      "+--------------------+------------------+------------------+-----------------+--------------+-----------+--------------+\n",
      "|   ÃÂlafur Arnalds|                14|         485.85098|    1504658577284|           485|        200| 1513774488284|\n",
      "|     ÃÂtienne Daho|                12|         235.25832|    1511351741284|          2631|        200| 1513786513284|\n",
      "|             tobyMac|                16| 611.4211300000001|    3016594136568|          3007|        400| 3027569789568|\n",
      "|the bird and the bee|               115|2003.5355100000002|   13515129596556|         41278|       1800|13624140816556|\n",
      "|taylor deupree + ...|                12|          385.2273|    1513381884284|          5162|        200| 1513791772284|\n",
      "|                moe.|                57|        1028.33542|    3022907376568|          8909|        400| 3027586335568|\n",
      "|        mewithoutYou|                 3|433.99746000000005|    3013630115568|          7136|        400| 3027534578568|\n",
      "|     matchbox twenty|               434|        3809.69116|   22548329284260|         70765|       3000|22707049452260|\n",
      "|     keller williams|                28|         230.39955|    1491713721284|          5394|        200| 1513803442284|\n",
      "|                 iio|               189| 908.0672199999999|    4485183961852|         12783|        600| 4541379543852|\n",
      "|                dEUS|                 4|           251.402|    1494795622284|          2934|        200| 1513740023284|\n",
      "|        blessthefall|                 9|         233.92608|    1494799164284|          4992|        200| 1513731086284|\n",
      "|           bel canto|                49|         156.99502|    3020409430568|          6235|        400| 3027601246568|\n",
      "|     be your own PET|                 4|         156.13342|    1488751398284|          5502|        200| 1513797044284|\n",
      "|Zuzana Navarova &...|                 3|         162.95138|    1507834265284|          1398|        200| 1513781933284|\n",
      "|          Zoo Brazil|                30|         367.04608|    1505171267284|          6303|        200| 1513798032284|\n",
      "|          Zola Jesus|                10|         233.01179|    1511650852284|          5066|        200| 1513790151284|\n",
      "|             Zoegirl|                25|         283.66322|    1493059502284|          5454|        200| 1513786001284|\n",
      "|          Zion Train|                 4|         375.61424|    1510608931284|          6048|        200| 1513789429284|\n",
      "|        Ziggy Marley|                10|         281.49506|    1489899558284|          4934|        200| 1513733692284|\n",
      "+--------------------+------------------+------------------+-----------------+--------------+-----------+--------------+\n",
      "only showing top 20 rows\n",
      "\n"
     ]
    }
   ],
   "source": [
    "# TODO: write your code to answer question 4\n",
    "user_log.groupby('artist').sum().sort('artist',ascending=False).show()"
   ]
  },
  {
   "cell_type": "markdown",
   "metadata": {},
   "source": [
    "# Question 5 (challenge)\n",
    "\n",
    "How many songs do users listen to on average between visiting our home page? Please round your answer to the closest integer.\n",
    "\n"
   ]
  },
  {
   "cell_type": "code",
   "execution_count": 52,
   "metadata": {},
   "outputs": [
    {
     "name": "stdout",
     "output_type": "stream",
     "text": [
      "+------+------------------+------------------+-----------------+-----------------+-----------------+--------------------+\n",
      "|userId|avg(itemInSession)|       avg(length)|avg(registration)|   avg(sessionId)|      avg(status)|             avg(ts)|\n",
      "+------+------------------+------------------+-----------------+-----------------+-----------------+--------------------+\n",
      "|  2904|               0.0|         348.57751|1.513494341284E12|           2903.0|            200.0|   1.513721095284E12|\n",
      "|   691|               1.5|269.66158666666666|1.503986110284E12|            690.0|            200.0|   1.513744509534E12|\n",
      "|  2294|32.306451612903224| 253.2148934545454|1.487337122284E12|           2293.0|203.4516129032258|1.513779889396903...|\n",
      "|  2162|              19.0|243.81803382352942|1.503425779284E12|           4814.0|            200.0|1.513777202822461...|\n",
      "|  1436|               0.5|        316.695055|1.505550349284E12|           1435.0|            200.0|   1.513783058784E12|\n",
      "|  2088|               6.5|254.61907692307693|1.507122158284E12|           2087.0|            200.0|   1.513804279784E12|\n",
      "|  2275|               2.0|390.73043333333334|1.505228090284E12|           4876.0|            200.0|   1.513765938084E12|\n",
      "|  2756|               0.5|215.32689600000003|1.511124600284E12|          6361.75|            200.0|   1.513797778909E12|\n",
      "|   800|               1.0|         258.58567|1.498457085284E12|           4093.0|            200.0|1.513782744617333...|\n",
      "|  1394| 6.821428571428571|230.37041076923074|1.480383553284E12|4754.142857142857|            200.0|1.513823913891142...|\n",
      "|   451|               1.5|        216.724445|1.498719403284E12|           4776.0|            200.0|   1.513845630034E12|\n",
      "|   926|0.7142857142857143|271.96036000000004|1.507366707284E12|5501.428571428572|            200.0|1.513798801141142...|\n",
      "|  1746|               0.0|              null|1.510856442284E12|           3943.5|            200.0|   1.513772656284E12|\n",
      "|  2696|               2.5|         200.95955|1.507609758284E12|           2695.0|            200.0|   1.513775499784E12|\n",
      "|  1280|               0.0|              null|1.497234733284E12|           3812.0|            200.0|   1.513785059784E12|\n",
      "|   870|               0.5|        231.757915|1.500747315284E12|            869.0|            200.0|   1.513784578284E12|\n",
      "|     7|               0.5|266.97097499999995|1.496092432284E12|           4541.0|            200.0|   1.513725864284E12|\n",
      "|  1903|               3.0|211.76379000000003|1.513570353284E12|5758.571428571428|            200.0|1.513782064569714...|\n",
      "|   591|               0.0|         219.79383|1.497786725284E12|           4068.0|            200.0|   1.513798695284E12|\n",
      "|   613|              0.25|        209.632195|1.510711848284E12|           4860.5|            200.0|   1.513784315534E12|\n",
      "+------+------------------+------------------+-----------------+-----------------+-----------------+--------------------+\n",
      "only showing top 20 rows\n",
      "\n"
     ]
    }
   ],
   "source": [
    "# TODO: write your code to answer question 5\n",
    "user_log.groupby('userId').mean().show()"
   ]
  }
 ],
 "metadata": {
  "kernelspec": {
   "display_name": "Python 3",
   "language": "python",
   "name": "python3"
  },
  "language_info": {
   "codemirror_mode": {
    "name": "ipython",
    "version": 3
   },
   "file_extension": ".py",
   "mimetype": "text/x-python",
   "name": "python",
   "nbconvert_exporter": "python",
   "pygments_lexer": "ipython3",
   "version": "3.6.3"
  }
 },
 "nbformat": 4,
 "nbformat_minor": 2
}
